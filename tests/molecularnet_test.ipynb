{
 "cells": [
  {
   "cell_type": "code",
   "execution_count": 1,
   "metadata": {},
   "outputs": [],
   "source": [
    "import os\n",
    "#change dir to parrent\n",
    "os.chdir('..')\n"
   ]
  },
  {
   "cell_type": "code",
   "execution_count": 2,
   "metadata": {},
   "outputs": [],
   "source": [
    "from aiondata import FoldswitchProteins\n",
    "# Instantiate FoldswitchProteins\n",
    "foldswitch_proteins_instance = FoldswitchProteins()\n"
   ]
  },
  {
   "cell_type": "code",
   "execution_count": 3,
   "metadata": {},
   "outputs": [],
   "source": [
    "foldswitch_proteins_instance.S1A\n",
    "foldswitch_proteins_instance.S1B\n",
    "foldswitch_proteins_instance.S1C"
   ]
  },
  {
   "cell_type": "code",
   "execution_count": 5,
   "metadata": {},
   "outputs": [
    {
     "data": {
      "text/html": [
       "<div><style>\n",
       ".dataframe > thead > tr,\n",
       ".dataframe > tbody > tr {\n",
       "  text-align: right;\n",
       "  white-space: pre-wrap;\n",
       "}\n",
       "</style>\n",
       "<small>shape: (93, 7)</small><table border=\"1\" class=\"dataframe\"><thead><tr><th>Fold1</th><th>Fold2</th><th>wTM-score</th><th>wRMSD</th><th>fsTM-score</th><th>fsRMSD</th><th>SeqID</th></tr><tr><td>str</td><td>str</td><td>f64</td><td>f64</td><td>f64</td><td>f64</td><td>f64</td></tr></thead><tbody><tr><td>&quot;1ebo_E&quot;</td><td>&quot;5fhc_J&quot;</td><td>0.23</td><td>23.77</td><td>0.35</td><td>13.47</td><td>91.1</td></tr><tr><td>&quot;1h38_D&quot;</td><td>&quot;1qln_A&quot;</td><td>0.73</td><td>19.15</td><td>0.35</td><td>4.2</td><td>100.0</td></tr><tr><td>&quot;1iyt_A&quot;</td><td>&quot;2nao_F&quot;</td><td>0.23</td><td>7.26</td><td>0.09</td><td>5.63</td><td>100.0</td></tr><tr><td>&quot;1jfk_A&quot;</td><td>&quot;2nxq_B&quot;</td><td>0.29</td><td>20.43</td><td>0.17</td><td>3.16</td><td>100.0</td></tr><tr><td>&quot;1k0n_A&quot;</td><td>&quot;1rk4_B&quot;</td><td>0.74</td><td>7.46</td><td>0.27</td><td>10.73</td><td>99.6</td></tr><tr><td>&quot;1kct_A&quot;</td><td>&quot;3t1p_A&quot;</td><td>0.81</td><td>17.04</td><td>0.63</td><td>21.89</td><td>98.1</td></tr><tr><td>&quot;1mnm_C&quot;</td><td>&quot;1mnm_D&quot;</td><td>0.75</td><td>6.57</td><td>0.33</td><td>9.13</td><td>100.0</td></tr><tr><td>&quot;1nqd_A&quot;</td><td>&quot;1nqj_B&quot;</td><td>0.86</td><td>7.12</td><td>0.42</td><td>10.48</td><td>99.2</td></tr><tr><td>&quot;1nrj_B&quot;</td><td>&quot;2ged_B&quot;</td><td>0.53</td><td>7.77</td><td>0.14</td><td>9.78</td><td>100.0</td></tr><tr><td>&quot;1qom_B&quot;</td><td>&quot;1noc_A&quot;</td><td>0.4</td><td>7.16</td><td>0.21</td><td>9.97</td><td>100.0</td></tr><tr><td>&quot;1qs8_B&quot;</td><td>&quot;1miq_B&quot;</td><td>0.84</td><td>7.17</td><td>0.38</td><td>13.05</td><td>99.7</td></tr><tr><td>&quot;1rep_C&quot;</td><td>&quot;2z9o_B&quot;</td><td>0.59</td><td>6.0</td><td>0.14</td><td>5.54</td><td>99.6</td></tr><tr><td>&hellip;</td><td>&hellip;</td><td>&hellip;</td><td>&hellip;</td><td>&hellip;</td><td>&hellip;</td><td>&hellip;</td></tr><tr><td>&quot;5ejb_C&quot;</td><td>&quot;1wp8_C&quot;</td><td>0.08</td><td>16.4</td><td>0.23</td><td>14.06</td><td>97.0</td></tr><tr><td>&quot;5f5r_B&quot;</td><td>&quot;5f3k_A&quot;</td><td>0.72</td><td>10.97</td><td>0.48</td><td>6.13</td><td>100.0</td></tr><tr><td>&quot;5flu_E&quot;</td><td>&quot;2uy7_D&quot;</td><td>0.69</td><td>6.62</td><td>0.19</td><td>10.71</td><td>99.4</td></tr><tr><td>&quot;5hmg_A&quot;</td><td>&quot;3ztj_E&quot;</td><td>0.96</td><td>1.07</td><td>0.9</td><td>1.1</td><td>100.0</td></tr><tr><td>&quot;5i2m_A&quot;</td><td>&quot;5i2s_A&quot;</td><td>0.37</td><td>26.38</td><td>0.28</td><td>7.09</td><td>100.0</td></tr><tr><td>&quot;5ine_A&quot;</td><td>&quot;3mko_A&quot;</td><td>0.14</td><td>20.65</td><td>0.19</td><td>10.81</td><td>99.2</td></tr><tr><td>&quot;5jyt_A&quot;</td><td>&quot;2qke_E&quot;</td><td>0.45</td><td>9.17</td><td>0.39</td><td>6.43</td><td>93.3</td></tr><tr><td>&quot;5jzh_A&quot;</td><td>&quot;5jzt_G&quot;</td><td>0.57</td><td>20.41</td><td>0.28</td><td>19.71</td><td>99.8</td></tr><tr><td>&quot;5keq_F&quot;</td><td>&quot;1dzl_A&quot;</td><td>0.9</td><td>5.84</td><td>0.2</td><td>10.19</td><td>99.2</td></tr><tr><td>&quot;5l35_D&quot;</td><td>&quot;5l35_G&quot;</td><td>0.89</td><td>3.78</td><td>0.24</td><td>6.98</td><td>100.0</td></tr><tr><td>&quot;5tpn_A&quot;</td><td>&quot;1g2c_F&quot;</td><td>0.06</td><td>10.17</td><td>0.54</td><td>10.31</td><td>100.0</td></tr><tr><td>&quot;6z4u_A&quot;</td><td>&quot;7kdt_B&quot;</td><td>0.17</td><td>14.21</td><td>0.22</td><td>14.21</td><td>100.0</td></tr></tbody></table></div>"
      ],
      "text/plain": [
       "shape: (93, 7)\n",
       "┌────────┬────────┬───────────┬───────┬────────────┬────────┬───────┐\n",
       "│ Fold1  ┆ Fold2  ┆ wTM-score ┆ wRMSD ┆ fsTM-score ┆ fsRMSD ┆ SeqID │\n",
       "│ ---    ┆ ---    ┆ ---       ┆ ---   ┆ ---        ┆ ---    ┆ ---   │\n",
       "│ str    ┆ str    ┆ f64       ┆ f64   ┆ f64        ┆ f64    ┆ f64   │\n",
       "╞════════╪════════╪═══════════╪═══════╪════════════╪════════╪═══════╡\n",
       "│ 1ebo_E ┆ 5fhc_J ┆ 0.23      ┆ 23.77 ┆ 0.35       ┆ 13.47  ┆ 91.1  │\n",
       "│ 1h38_D ┆ 1qln_A ┆ 0.73      ┆ 19.15 ┆ 0.35       ┆ 4.2    ┆ 100.0 │\n",
       "│ 1iyt_A ┆ 2nao_F ┆ 0.23      ┆ 7.26  ┆ 0.09       ┆ 5.63   ┆ 100.0 │\n",
       "│ 1jfk_A ┆ 2nxq_B ┆ 0.29      ┆ 20.43 ┆ 0.17       ┆ 3.16   ┆ 100.0 │\n",
       "│ 1k0n_A ┆ 1rk4_B ┆ 0.74      ┆ 7.46  ┆ 0.27       ┆ 10.73  ┆ 99.6  │\n",
       "│ …      ┆ …      ┆ …         ┆ …     ┆ …          ┆ …      ┆ …     │\n",
       "│ 5jzh_A ┆ 5jzt_G ┆ 0.57      ┆ 20.41 ┆ 0.28       ┆ 19.71  ┆ 99.8  │\n",
       "│ 5keq_F ┆ 1dzl_A ┆ 0.9       ┆ 5.84  ┆ 0.2        ┆ 10.19  ┆ 99.2  │\n",
       "│ 5l35_D ┆ 5l35_G ┆ 0.89      ┆ 3.78  ┆ 0.24       ┆ 6.98   ┆ 100.0 │\n",
       "│ 5tpn_A ┆ 1g2c_F ┆ 0.06      ┆ 10.17 ┆ 0.54       ┆ 10.31  ┆ 100.0 │\n",
       "│ 6z4u_A ┆ 7kdt_B ┆ 0.17      ┆ 14.21 ┆ 0.22       ┆ 14.21  ┆ 100.0 │\n",
       "└────────┴────────┴───────────┴───────┴────────────┴────────┴───────┘"
      ]
     },
     "execution_count": 5,
     "metadata": {},
     "output_type": "execute_result"
    }
   ],
   "source": []
  }
 ],
 "metadata": {
  "kernelspec": {
   "display_name": "Python 3",
   "language": "python",
   "name": "python3"
  },
  "language_info": {
   "codemirror_mode": {
    "name": "ipython",
    "version": 3
   },
   "file_extension": ".py",
   "mimetype": "text/x-python",
   "name": "python",
   "nbconvert_exporter": "python",
   "pygments_lexer": "ipython3",
   "version": "3.11.5"
  }
 },
 "nbformat": 4,
 "nbformat_minor": 2
}
