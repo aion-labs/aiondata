{
 "cells": [
  {
   "cell_type": "code",
   "execution_count": 1,
   "metadata": {},
   "outputs": [],
   "source": [
    "import os\n",
    "#change dir to parrent\n",
    "os.chdir('..')\n"
   ]
  },
  {
   "cell_type": "code",
   "execution_count": 2,
   "metadata": {},
   "outputs": [],
   "source": [
    "from aiondata import FoldswitchProteins\n",
    "# Instantiate FoldswitchProteins\n",
    "foldswitch_proteins_instance = FoldswitchProteins()\n"
   ]
  },
  {
   "cell_type": "code",
   "execution_count": 3,
   "metadata": {},
   "outputs": [],
   "source": [
    "foldswitch_proteins_instance.S1A\n",
    "foldswitch_proteins_instance.S1B\n",
    "foldswitch_proteins_instance.S1C"
   ]
  },
  {
   "cell_type": "code",
   "execution_count": 4,
   "metadata": {},
   "outputs": [
    {
     "data": {
      "text/html": [
       "<div><style>\n",
       ".dataframe > thead > tr,\n",
       ".dataframe > tbody > tr {\n",
       "  text-align: right;\n",
       "  white-space: pre-wrap;\n",
       "}\n",
       "</style>\n",
       "<small>shape: (91, 1)</small><table border=\"1\" class=\"dataframe\"><thead><tr><th>apo_id;holo_id;rmsd_apo_holo;RMSD_best_score_md_Apo;RMSD_best_score_md_Holo;mds_best_global_score;length;seqs_aligned;lowest_rmsd_md_apo_or_holo;type;lowest_md_score;domains_quant;motion_type;neff</th></tr><tr><td>str</td></tr></thead><tbody><tr><td>&quot;1AEL-12_A;1URE…</td></tr><tr><td>&quot;1BV2-3_A;1UVB_…</td></tr><tr><td>&quot;1C54-19_A;1RGH…</td></tr><tr><td>&quot;1EAL-2_A;1EIO-…</td></tr><tr><td>&quot;1F3Y-17_A;1JKN…</td></tr><tr><td>&quot;1FMF-4_A;1ID8-…</td></tr><tr><td>&quot;1GH1-7_A;1CZ2-…</td></tr><tr><td>&quot;1GQN_A;1QFE_B;…</td></tr><tr><td>&quot;1GQZ_A;2GKE_A;…</td></tr><tr><td>&quot;1HSI_B;1HSH_D;…</td></tr><tr><td>&quot;1I56_A;1EL1_A;…</td></tr><tr><td>&quot;1IGP_A;2AU6_A;…</td></tr><tr><td>&hellip;</td></tr><tr><td>&quot;1K6W_A;1K70_A;…</td></tr><tr><td>&quot;1YL5_B;1YL7_A;…</td></tr><tr><td>&quot;6OY9_B;1A0R_B;…</td></tr><tr><td>&quot;1A6D_A;1A6E_A;…</td></tr><tr><td>&quot;2RCS_H;1AJ7_H;…</td></tr><tr><td>&quot;1AW2_A;1AW1_B;…</td></tr><tr><td>&quot;1RKM_A;1B6H_A;…</td></tr><tr><td>&quot;7AZP_A;4PJ1_A;…</td></tr><tr><td>&quot;4LP5_A;4P2Y_A;…</td></tr><tr><td>&quot;1CFC_A;5DOW_A;…</td></tr><tr><td>&quot;2KQ2-6_A;2KW4-…</td></tr><tr><td>&quot;1DMO-18_A;3CLN…</td></tr></tbody></table></div>"
      ],
      "text/plain": [
       "shape: (91, 1)\n",
       "┌───────────────────────────────────┐\n",
       "│ apo_id;holo_id;rmsd_apo_holo;RMS… │\n",
       "│ ---                               │\n",
       "│ str                               │\n",
       "╞═══════════════════════════════════╡\n",
       "│ 1AEL-12_A;1URE-8_A;2.6905;2.5034… │\n",
       "│ 1BV2-3_A;1UVB_A;1.9621;1.3671;1.… │\n",
       "│ 1C54-19_A;1RGH_B;1.4925;1.515;0.… │\n",
       "│ 1EAL-2_A;1EIO-3_A;2.3868;1.4351;… │\n",
       "│ 1F3Y-17_A;1JKN-15_A;5.077;5.4652… │\n",
       "│ …                                 │\n",
       "│ 7AZP_A;4PJ1_A;13.24;3.31;13.6;91… │\n",
       "│ 4LP5_A;4P2Y_A;11.69;7.16;6.83;89… │\n",
       "│ 1CFC_A;5DOW_A;9.25;7.06;7.37;84.… │\n",
       "│ 2KQ2-6_A;2KW4-19_A;14.14;9.24;10… │\n",
       "│ 1DMO-18_A;3CLN_A;14.64;9.12;10.3… │\n",
       "└───────────────────────────────────┘"
      ]
     },
     "execution_count": 4,
     "metadata": {},
     "output_type": "execute_result"
    }
   ],
   "source": [
    "from aiondata import CodNas91\n",
    "\n",
    "# Call the to_df method to get the dataframe\n",
    "dataframe = CodNas91().to_df()\n",
    "\n",
    "# Now you can use the dataframe for further processing\n",
    "dataframe\n"
   ]
  },
  {
   "cell_type": "code",
   "execution_count": 7,
   "metadata": {},
   "outputs": [
    {
     "data": {
      "text/plain": [
       "<aiondata.moleculenet.CodNas91 at 0x14cbfbe10>"
      ]
     },
     "execution_count": 7,
     "metadata": {},
     "output_type": "execute_result"
    }
   ],
   "source": []
  }
 ],
 "metadata": {
  "kernelspec": {
   "display_name": "Python 3",
   "language": "python",
   "name": "python3"
  },
  "language_info": {
   "codemirror_mode": {
    "name": "ipython",
    "version": 3
   },
   "file_extension": ".py",
   "mimetype": "text/x-python",
   "name": "python",
   "nbconvert_exporter": "python",
   "pygments_lexer": "ipython3",
   "version": "3.11.5"
  }
 },
 "nbformat": 4,
 "nbformat_minor": 2
}
