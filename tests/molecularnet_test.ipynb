{
 "cells": [
  {
   "cell_type": "code",
   "execution_count": 1,
   "metadata": {},
   "outputs": [],
   "source": [
    "import os\n",
    "#change dir to parrent\n",
    "os.chdir('..')\n"
   ]
  },
  {
   "cell_type": "code",
   "execution_count": 2,
   "metadata": {},
   "outputs": [],
   "source": [
    "from aiondata import FoldswitchProteins\n",
    "# Instantiate FoldswitchProteins\n",
    "foldswitch_proteins_instance = FoldswitchProteins()\n"
   ]
  },
  {
   "cell_type": "code",
   "execution_count": 5,
   "metadata": {},
   "outputs": [
    {
     "data": {
      "text/html": [
       "<div><style>\n",
       ".dataframe > thead > tr,\n",
       ".dataframe > tbody > tr {\n",
       "  text-align: right;\n",
       "  white-space: pre-wrap;\n",
       "}\n",
       "</style>\n",
       "<small>shape: (98, 9)</small><table border=\"1\" class=\"dataframe\"><thead><tr><th>PDB1</th><th>PDB2</th><th>length_FoldSwitching</th><th>length_whole</th><th>FoldSwitching_sequence</th><th>Method PDB1</th><th>Resolution (Å)</th><th>Method PDB2</th><th>Resolution (Å)_duplicated_0</th></tr><tr><td>str</td><td>str</td><td>i64</td><td>i64</td><td>str</td><td>str</td><td>str</td><td>str</td><td>str</td></tr></thead><tbody><tr><td>&quot;1ceeB&quot;</td><td>&quot;2k42A&quot;</td><td>24</td><td>59</td><td>&quot;IGAPSGFKHVSHVG…</td><td>&quot;SOLUTION NMR&quot;</td><td>&quot;NA&quot;</td><td>&quot;SOLUTION NMR&quot;</td><td>&quot;NA&quot;</td></tr><tr><td>&quot;1g2cF&quot;</td><td>&quot;5tpnA&quot;</td><td>43</td><td>43</td><td>&quot;FYDPLVFPSDEFDA…</td><td>&quot;X-RAY DIFFRACT…</td><td>&quot;2.299999999999…</td><td>&quot;X-RAY DIFFRACT…</td><td>&quot;3.14&quot;</td></tr><tr><td>&quot;1h38D&quot;</td><td>&quot;1qlnA&quot;</td><td>20</td><td>883</td><td>&quot;INGTDNEVVTVTDE…</td><td>&quot;X-RAY DIFFRACT…</td><td>&quot;2.9&quot;</td><td>&quot;X-RAY DIFFRACT…</td><td>&quot;2.4&quot;</td></tr><tr><td>&quot;1k0nA&quot;</td><td>&quot;1rk4B&quot;</td><td>42</td><td>241</td><td>&quot;KGVTFNVTTVDTKR…</td><td>&quot;X-RAY DIFFRACT…</td><td>&quot;1.8&quot;</td><td>&quot;X-RAY DIFFRACT…</td><td>&quot;1.79&quot;</td></tr><tr><td>&quot;1mnmC&quot;</td><td>&quot;1mnmD&quot;</td><td>20</td><td>87</td><td>&quot;DGLVFNVVTQDMIN…</td><td>&quot;X-RAY DIFFRACT…</td><td>&quot;2.25&quot;</td><td>&quot;X-RAY DIFFRACT…</td><td>&quot;2.25&quot;</td></tr><tr><td>&quot;1nqdA&quot;</td><td>&quot;1nqjB&quot;</td><td>33</td><td>122</td><td>&quot;GSPGIPGNEKLKEK…</td><td>&quot;X-RAY DIFFRACT…</td><td>&quot;1.65&quot;</td><td>&quot;X-RAY DIFFRACT…</td><td>&quot;1&quot;</td></tr><tr><td>&quot;1qomB&quot;</td><td>&quot;1nocA&quot;</td><td>22</td><td>440</td><td>&quot;LVPPVSGSITPVFH…</td><td>&quot;X-RAY DIFFRACT…</td><td>&quot;2.7&quot;</td><td>&quot;X-RAY DIFFRACT…</td><td>&quot;2.6&quot;</td></tr><tr><td>&quot;1qs8B&quot;</td><td>&quot;1miqB&quot;</td><td>32</td><td>329</td><td>&quot;LGSENDVIELDDVA…</td><td>&quot;X-RAY DIFFRACT…</td><td>&quot;2.5&quot;</td><td>&quot;X-RAY DIFFRACT…</td><td>&quot;2.5&quot;</td></tr><tr><td>&quot;1repC&quot;</td><td>&quot;2z9oB&quot;</td><td>20</td><td>251</td><td>&quot;FFIGLQNRFTQFRL…</td><td>&quot;X-RAY DIFFRACT…</td><td>&quot;2.6&quot;</td><td>&quot;X-RAY DIFFRACT…</td><td>&quot;3.14&quot;</td></tr><tr><td>&quot;1rkpA&quot;</td><td>&quot;2h44A&quot;</td><td>22</td><td>326</td><td>&quot;DHRGVNNSYIQRSE…</td><td>&quot;X-RAY DIFFRACT…</td><td>&quot;2.049999999999…</td><td>&quot;X-RAY DIFFRACT…</td><td>&quot;1.8&quot;</td></tr><tr><td>&quot;1uxmK&quot;</td><td>&quot;2namA&quot;</td><td>153</td><td>153</td><td>&quot;ATKVVCVLKGDGPV…</td><td>&quot;X-RAY DIFFRACT…</td><td>&quot;1.9&quot;</td><td>&quot;SOLUTION NMR&quot;</td><td>&quot;NA&quot;</td></tr><tr><td>&quot;1wyyB&quot;</td><td>&quot;5wrgC&quot;</td><td>58</td><td>149</td><td>&quot;VQIDRLITGGRGGS…</td><td>&quot;X-RAY DIFFRACT…</td><td>&quot;2.200000000000…</td><td>&quot;ELECTRON MICRO…</td><td>&quot;4.3&quot;</td></tr><tr><td>&hellip;</td><td>&hellip;</td><td>&hellip;</td><td>&hellip;</td><td>&hellip;</td><td>&hellip;</td><td>&hellip;</td><td>&hellip;</td><td>&hellip;</td></tr><tr><td>&quot;5ineA&quot;</td><td>&quot;3mkoA&quot;</td><td>48</td><td>438</td><td>&quot;HLRDLMGVPYCNYS…</td><td>&quot;X-RAY DIFFRACT…</td><td>&quot;3.5&quot;</td><td>&quot;X-RAY DIFFRACT…</td><td>&quot;1.8&quot;</td></tr><tr><td>&quot;5jzhA&quot;</td><td>&quot;5jztG&quot;</td><td>64</td><td>424</td><td>&quot;YDVTLRGDTATNWS…</td><td>&quot;ELECTRON MICRO…</td><td>&quot;3.9&quot;</td><td>&quot;ELECTRON MICRO…</td><td>&quot;7.4&quot;</td></tr><tr><td>&quot;6vw2A&quot;</td><td>&quot;2kb8A&quot;</td><td>28</td><td>155</td><td>&quot;QRLANFLVHSSNNF…</td><td>&quot;ELECTRON MICRO…</td><td>&quot;3.4&quot;</td><td>&quot;SOLUTION NMR&quot;</td><td>&quot;NA&quot;</td></tr><tr><td>&quot;5keqF&quot;</td><td>&quot;1dzlA&quot;</td><td>34</td><td>483</td><td>&quot;PGGTLEDTYRFVTS…</td><td>&quot;ELECTRON MICRO…</td><td>&quot;4.3&quot;</td><td>&quot;X-RAY DIFFRACT…</td><td>&quot;3.5&quot;</td></tr><tr><td>&quot;5l35D&quot;</td><td>&quot;5l35G&quot;</td><td>28</td><td>422</td><td>&quot;DAQTGLHASDQLVR…</td><td>&quot;ELECTRON MICRO…</td><td>&quot;2.89&quot;</td><td>&quot;ELECTRON MICRO…</td><td>&quot;2.89&quot;</td></tr><tr><td>&quot;7ahlE&quot;</td><td>&quot;4yhdG&quot;</td><td>53</td><td>293</td><td>&quot;DYYPRNSIDTKEYM…</td><td>&quot;X-RAY DIFFRACT…</td><td>&quot;1.89&quot;</td><td>&quot;X-RAY DIFFRACT…</td><td>&quot;2.8&quot;</td></tr><tr><td>&quot;4ksoA&quot;</td><td>null</td><td>35</td><td>102</td><td>&quot;LAKVLPLPVRRIIG…</td><td>&quot;X-RAY DIFFRACT…</td><td>&quot;2.62&quot;</td><td>null</td><td>null</td></tr><tr><td>&quot;1wwjA&quot;</td><td>null</td><td>35</td><td>105</td><td>&quot;LAKILPPPVRKIIG…</td><td>&quot;X-RAY DIFFRACT…</td><td>&quot;1.9&quot;</td><td>null</td><td>null</td></tr><tr><td>&quot;1r5pA&quot;</td><td>null</td><td>35</td><td>108</td><td>&quot;LSKILPPPVRKIIG…</td><td>&quot;X-RAY DIFFRACT…</td><td>&quot;2.200000000000…</td><td>null</td><td>null</td></tr><tr><td>&quot;1f16A&quot;</td><td>null</td><td>22</td><td>192</td><td>&quot;WDGLLSYFGTPTWQ…</td><td>&quot;SOLUTION NMR&quot;</td><td>&quot;NA&quot;</td><td>null</td><td>null</td></tr><tr><td>&quot;2kxoA&quot;</td><td>&quot;3r9jC&quot;</td><td>20</td><td>95</td><td>&quot;VARDRLQIIIAQER…</td><td>&quot;SOLUTION NMR&quot;</td><td>&quot;NA&quot;</td><td>&quot;X-RAY DIFFRACT…</td><td>&quot;4.3&quot;</td></tr><tr><td>&quot;6z4uA&quot;</td><td>&quot;7kdtB&quot;</td><td>22</td><td>97</td><td>&quot;KTLNSLEDKAFQLT…</td><td>&quot;X-RAY DIFFRACT…</td><td>&quot;1.95&quot;</td><td>&quot;ELECTRON MICRO…</td><td>&quot;3.05&quot;</td></tr></tbody></table></div>"
      ],
      "text/plain": [
       "shape: (98, 9)\n",
       "┌───────┬───────┬─────────────┬────────────┬───┬────────────┬────────────┬────────────┬────────────┐\n",
       "│ PDB1  ┆ PDB2  ┆ length_Fold ┆ length_who ┆ … ┆ Method     ┆ Resolution ┆ Method     ┆ Resolution │\n",
       "│ ---   ┆ ---   ┆ Switching   ┆ le         ┆   ┆ PDB1       ┆ (Å)        ┆ PDB2       ┆ (Å)_duplic │\n",
       "│ str   ┆ str   ┆ ---         ┆ ---        ┆   ┆ ---        ┆ ---        ┆ ---        ┆ ated_0     │\n",
       "│       ┆       ┆ i64         ┆ i64        ┆   ┆ str        ┆ str        ┆ str        ┆ ---        │\n",
       "│       ┆       ┆             ┆            ┆   ┆            ┆            ┆            ┆ str        │\n",
       "╞═══════╪═══════╪═════════════╪════════════╪═══╪════════════╪════════════╪════════════╪════════════╡\n",
       "│ 1ceeB ┆ 2k42A ┆ 24          ┆ 59         ┆ … ┆ SOLUTION   ┆ NA         ┆ SOLUTION   ┆ NA         │\n",
       "│       ┆       ┆             ┆            ┆   ┆ NMR        ┆            ┆ NMR        ┆            │\n",
       "│ 1g2cF ┆ 5tpnA ┆ 43          ┆ 43         ┆ … ┆ X-RAY DIFF ┆ 2.29999999 ┆ X-RAY DIFF ┆ 3.14       │\n",
       "│       ┆       ┆             ┆            ┆   ┆ RACTION    ┆ 99999998   ┆ RACTION    ┆            │\n",
       "│ 1h38D ┆ 1qlnA ┆ 20          ┆ 883        ┆ … ┆ X-RAY DIFF ┆ 2.9        ┆ X-RAY DIFF ┆ 2.4        │\n",
       "│       ┆       ┆             ┆            ┆   ┆ RACTION    ┆            ┆ RACTION    ┆            │\n",
       "│ 1k0nA ┆ 1rk4B ┆ 42          ┆ 241        ┆ … ┆ X-RAY DIFF ┆ 1.8        ┆ X-RAY DIFF ┆ 1.79       │\n",
       "│       ┆       ┆             ┆            ┆   ┆ RACTION    ┆            ┆ RACTION    ┆            │\n",
       "│ 1mnmC ┆ 1mnmD ┆ 20          ┆ 87         ┆ … ┆ X-RAY DIFF ┆ 2.25       ┆ X-RAY DIFF ┆ 2.25       │\n",
       "│       ┆       ┆             ┆            ┆   ┆ RACTION    ┆            ┆ RACTION    ┆            │\n",
       "│ …     ┆ …     ┆ …           ┆ …          ┆ … ┆ …          ┆ …          ┆ …          ┆ …          │\n",
       "│ 1wwjA ┆ null  ┆ 35          ┆ 105        ┆ … ┆ X-RAY DIFF ┆ 1.9        ┆ null       ┆ null       │\n",
       "│       ┆       ┆             ┆            ┆   ┆ RACTION    ┆            ┆            ┆            │\n",
       "│ 1r5pA ┆ null  ┆ 35          ┆ 108        ┆ … ┆ X-RAY DIFF ┆ 2.20000000 ┆ null       ┆ null       │\n",
       "│       ┆       ┆             ┆            ┆   ┆ RACTION    ┆ 00000002   ┆            ┆            │\n",
       "│ 1f16A ┆ null  ┆ 22          ┆ 192        ┆ … ┆ SOLUTION   ┆ NA         ┆ null       ┆ null       │\n",
       "│       ┆       ┆             ┆            ┆   ┆ NMR        ┆            ┆            ┆            │\n",
       "│ 2kxoA ┆ 3r9jC ┆ 20          ┆ 95         ┆ … ┆ SOLUTION   ┆ NA         ┆ X-RAY DIFF ┆ 4.3        │\n",
       "│       ┆       ┆             ┆            ┆   ┆ NMR        ┆            ┆ RACTION    ┆            │\n",
       "│ 6z4uA ┆ 7kdtB ┆ 22          ┆ 97         ┆ … ┆ X-RAY DIFF ┆ 1.95       ┆ ELECTRON   ┆ 3.05       │\n",
       "│       ┆       ┆             ┆            ┆   ┆ RACTION    ┆            ┆ MICROSCOPY ┆            │\n",
       "└───────┴───────┴─────────────┴────────────┴───┴────────────┴────────────┴────────────┴────────────┘"
      ]
     },
     "execution_count": 5,
     "metadata": {},
     "output_type": "execute_result"
    }
   ],
   "source": [
    "foldswitch_proteins_instance.S1A\n",
    "#foldswitch_proteins_instance.S1B\n",
    "#foldswitch_proteins_instance.S1C"
   ]
  },
  {
   "cell_type": "code",
   "execution_count": 4,
   "metadata": {},
   "outputs": [
    {
     "data": {
      "text/html": [
       "<div><style>\n",
       ".dataframe > thead > tr,\n",
       ".dataframe > tbody > tr {\n",
       "  text-align: right;\n",
       "  white-space: pre-wrap;\n",
       "}\n",
       "</style>\n",
       "<small>shape: (91, 1)</small><table border=\"1\" class=\"dataframe\"><thead><tr><th>apo_id;holo_id;rmsd_apo_holo;RMSD_best_score_md_Apo;RMSD_best_score_md_Holo;mds_best_global_score;length;seqs_aligned;lowest_rmsd_md_apo_or_holo;type;lowest_md_score;domains_quant;motion_type;neff</th></tr><tr><td>str</td></tr></thead><tbody><tr><td>&quot;1AEL-12_A;1URE…</td></tr><tr><td>&quot;1BV2-3_A;1UVB_…</td></tr><tr><td>&quot;1C54-19_A;1RGH…</td></tr><tr><td>&quot;1EAL-2_A;1EIO-…</td></tr><tr><td>&quot;1F3Y-17_A;1JKN…</td></tr><tr><td>&quot;1FMF-4_A;1ID8-…</td></tr><tr><td>&quot;1GH1-7_A;1CZ2-…</td></tr><tr><td>&quot;1GQN_A;1QFE_B;…</td></tr><tr><td>&quot;1GQZ_A;2GKE_A;…</td></tr><tr><td>&quot;1HSI_B;1HSH_D;…</td></tr><tr><td>&quot;1I56_A;1EL1_A;…</td></tr><tr><td>&quot;1IGP_A;2AU6_A;…</td></tr><tr><td>&hellip;</td></tr><tr><td>&quot;1K6W_A;1K70_A;…</td></tr><tr><td>&quot;1YL5_B;1YL7_A;…</td></tr><tr><td>&quot;6OY9_B;1A0R_B;…</td></tr><tr><td>&quot;1A6D_A;1A6E_A;…</td></tr><tr><td>&quot;2RCS_H;1AJ7_H;…</td></tr><tr><td>&quot;1AW2_A;1AW1_B;…</td></tr><tr><td>&quot;1RKM_A;1B6H_A;…</td></tr><tr><td>&quot;7AZP_A;4PJ1_A;…</td></tr><tr><td>&quot;4LP5_A;4P2Y_A;…</td></tr><tr><td>&quot;1CFC_A;5DOW_A;…</td></tr><tr><td>&quot;2KQ2-6_A;2KW4-…</td></tr><tr><td>&quot;1DMO-18_A;3CLN…</td></tr></tbody></table></div>"
      ],
      "text/plain": [
       "shape: (91, 1)\n",
       "┌───────────────────────────────────┐\n",
       "│ apo_id;holo_id;rmsd_apo_holo;RMS… │\n",
       "│ ---                               │\n",
       "│ str                               │\n",
       "╞═══════════════════════════════════╡\n",
       "│ 1AEL-12_A;1URE-8_A;2.6905;2.5034… │\n",
       "│ 1BV2-3_A;1UVB_A;1.9621;1.3671;1.… │\n",
       "│ 1C54-19_A;1RGH_B;1.4925;1.515;0.… │\n",
       "│ 1EAL-2_A;1EIO-3_A;2.3868;1.4351;… │\n",
       "│ 1F3Y-17_A;1JKN-15_A;5.077;5.4652… │\n",
       "│ …                                 │\n",
       "│ 7AZP_A;4PJ1_A;13.24;3.31;13.6;91… │\n",
       "│ 4LP5_A;4P2Y_A;11.69;7.16;6.83;89… │\n",
       "│ 1CFC_A;5DOW_A;9.25;7.06;7.37;84.… │\n",
       "│ 2KQ2-6_A;2KW4-19_A;14.14;9.24;10… │\n",
       "│ 1DMO-18_A;3CLN_A;14.64;9.12;10.3… │\n",
       "└───────────────────────────────────┘"
      ]
     },
     "execution_count": 4,
     "metadata": {},
     "output_type": "execute_result"
    }
   ],
   "source": [
    "from aiondata import CodNas91\n",
    "\n",
    "# Call the to_df method to get the dataframe\n",
    "dataframe = CodNas91().to_df()\n",
    "\n",
    "# Now you can use the dataframe for further processing\n",
    "dataframe\n"
   ]
  },
  {
   "cell_type": "code",
   "execution_count": 7,
   "metadata": {},
   "outputs": [
    {
     "data": {
      "text/plain": [
       "<aiondata.moleculenet.CodNas91 at 0x14cbfbe10>"
      ]
     },
     "execution_count": 7,
     "metadata": {},
     "output_type": "execute_result"
    }
   ],
   "source": []
  }
 ],
 "metadata": {
  "kernelspec": {
   "display_name": "Python 3",
   "language": "python",
   "name": "python3"
  },
  "language_info": {
   "codemirror_mode": {
    "name": "ipython",
    "version": 3
   },
   "file_extension": ".py",
   "mimetype": "text/x-python",
   "name": "python",
   "nbconvert_exporter": "python",
   "pygments_lexer": "ipython3",
   "version": "3.11.5"
  }
 },
 "nbformat": 4,
 "nbformat_minor": 2
}
